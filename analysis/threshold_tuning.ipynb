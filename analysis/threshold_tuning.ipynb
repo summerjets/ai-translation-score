{
 "cells": [
  {
   "cell_type": "code",
   "execution_count": 58,
   "metadata": {},
   "outputs": [],
   "source": [
    "import pandas as pd\n",
    "import requests\n",
    "import json\n",
    "import numpy as np\n",
    "import matplotlib.pyplot as plt"
   ]
  },
  {
   "cell_type": "code",
   "execution_count": 12,
   "metadata": {},
   "outputs": [],
   "source": [
    "df = pd.read_csv(\"Latin_solutions.csv\")"
   ]
  },
  {
   "cell_type": "code",
   "execution_count": 50,
   "metadata": {},
   "outputs": [],
   "source": [
    "\n",
    "url = \"https://latincomparison.pythonanywhere.com/comparenoauth\"\n",
    "headers = {\"Content-Type\": \"application/json\"}\n",
    "\n",
    "comparison_score = []\n",
    "\n",
    "for i, row in df.iterrows():\n",
    "    \n",
    "    translations = row[~row.isnull()].values[1:]\n",
    "\n",
    "    payload = {\"submission\": translations[0], \"exemplar\": translations[1:].tolist()}\n",
    "\n",
    "    try:\n",
    "        response = requests.post(url, data=json.dumps(payload), headers=headers).json()\n",
    "        comparison_score.append(response[\"payload\"][\"comparison_score\"])\n",
    "    except:\n",
    "        pass"
   ]
  },
  {
   "cell_type": "code",
   "execution_count": 56,
   "metadata": {},
   "outputs": [
    {
     "data": {
      "text/plain": [
       "(array([  2.,   0.,   3.,   0.,   7.,   9.,  13.,  31.,  96., 288.]),\n",
       " array([0.65270788, 0.68734663, 0.72198538, 0.75662413, 0.79126289,\n",
       "        0.82590164, 0.86054039, 0.89517914, 0.92981789, 0.96445664,\n",
       "        0.9990954 ]),\n",
       " <BarContainer object of 10 artists>)"
      ]
     },
     "execution_count": 56,
     "metadata": {},
     "output_type": "execute_result"
    },
    {
     "data": {
      "image/png": "[encoded data removed]",
      "text/plain": [
       "<Figure size 432x288 with 1 Axes>"
      ]
     },
     "metadata": {
      "needs_background": "light"
     },
     "output_type": "display_data"
    }
   ],
   "source": [
    "plt.hist(comparison_score)"
   ]
  },
  {
   "cell_type": "code",
   "execution_count": 65,
   "metadata": {},
   "outputs": [
    {
     "name": "stdout",
     "output_type": "stream",
     "text": [
      "443 accepted as over threshold (0.8) -- 0.99%\n"
     ]
    }
   ],
   "source": [
    "threshold = 0.8\n",
    "\n",
    "comparison_score_np = np.array(comparison_score)\n",
    "\n",
    "n_gt_threshold = sum(comparison_score_np >= threshold)\n",
    "\n",
    "pct_gt_threshold = n_gt_threshold / len(comparison_score_np)\n",
    "\n",
    "print(f\"{n_gt_threshold} accepted as over threshold ({threshold}) -- {pct_gt_threshold:.2f}%\")"
   ]
  },
  {
   "cell_type": "code",
   "execution_count": null,
   "metadata": {},
   "outputs": [],
   "source": []
  }
 ],
 "metadata": {
  "kernelspec": {
   "display_name": "Python 3",
   "language": "python",
   "name": "python3"
  },
  "language_info": {
   "codemirror_mode": {
    "name": "ipython",
    "version": 3
   },
   "file_extension": ".py",
   "mimetype": "text/x-python",
   "name": "python",
   "nbconvert_exporter": "python",
   "pygments_lexer": "ipython3",
   "version": "3.9.1"
  }
 },
 "nbformat": 4,
 "nbformat_minor": 4
}
